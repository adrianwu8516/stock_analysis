{
 "cells": [
  {
   "cell_type": "code",
   "execution_count": 3,
   "metadata": {},
   "outputs": [],
   "source": [
    "import matplotlib.pyplot as plt\n",
    "import cv2\n",
    "import os\n",
    "import re\n",
    "import numpy as np"
   ]
  },
  {
   "cell_type": "code",
   "execution_count": 1,
   "metadata": {},
   "outputs": [],
   "source": [
    "# A supplement function for make black and white file\n",
    "def lightness(img, a=2, b=80):\n",
    "    rows,cols,channels=img.shape\n",
    "    dst=img.copy()\n",
    "    for i in range(rows):\n",
    "        for j in range(cols):\n",
    "            for c in range(3):\n",
    "                # 從灰色一刀劃開，大者恆大，小者恆小\n",
    "                color = img[i,j][c]*a+b if img[i,j][c] > 125 else img[i,j][c]/a-b\n",
    "                if color>255:           # 防止像素值越界（0~255）\n",
    "                    dst[i,j][c]=255\n",
    "                elif color<0:           # 防止像素值越界（0~255）\n",
    "                    dst[i,j][c]=0\n",
    "                else:\n",
    "                    dst[i,j][c]=color\n",
    "    return dst\n",
    "\n",
    "# Calculation Min Square\n",
    "def mse(imageA, imageB):\n",
    "    err = np.sum((imageA.astype(\"float\") - imageB.astype(\"float\"))**2)\n",
    "    err /= float(imageA.shape[0] * imageA.shape[1])\n",
    "    return err\n",
    "\n",
    "def getNumber(pic):\n",
    "    max_a = 0\n",
    "    max_png = None\n",
    "    for png in os.listdir('Alphabet'):\n",
    "        if not png.endswith('.png'):\n",
    "            continue\n",
    "        # Remove some characters that had never shown before\n",
    "        if png in ['0.png', 'O.png', '1.png', 'I.png', 'S.png', '5.png', 'W.png', 'M.png', 'B.png']:\n",
    "            continue\n",
    "        ref = cv2.imread('Alphabet/'+png)\n",
    "        if mse(ref, pic) > max_a:\n",
    "            max_a = mse(ref, pic)\n",
    "            max_png = png\n",
    "    # if its hard to recognize, then give up\n",
    "    return \"\" if max_a < 125000 else re.sub('.png', '', max_png)\n",
    "\n",
    "# Read file and handle\n",
    "def pre_processing(img_file, k=4, f=1):\n",
    "    image = cv2.imread(\"img/\" + img_file)\n",
    "    kernel = np.ones((k,k), np.uint8)\n",
    "    erosion = cv2.erode(image, kernel, iterations=1)\n",
    "    light = lightness(erosion, a=2, b=80)\n",
    "    dilation = cv2.dilate(light, kernel, iterations=f)\n",
    "    dilation = cv2.cvtColor(dilation, cv2.COLOR_BGR2GRAY)\n",
    "    plt.imshow(image)\n",
    "    return dilation\n",
    "\n",
    "# Cutting images into 50x50 cubic\n",
    "def find_contours(img):\n",
    "    contours, hierarchy = cv2.findContours(img.copy(), cv2.RETR_EXTERNAL, cv2.CHAIN_APPROX_SIMPLE) \n",
    "    cnts = sorted([(c, cv2.boundingRect(c)[0]) for c in contours], key= lambda x: x[1])\n",
    "    ary = []\n",
    "    final_ans = \"\"\n",
    "    for (c, _) in cnts:\n",
    "        (x, y, w, h) = cv2.boundingRect(c)\n",
    "        # 太小張捨棄\n",
    "        if w > 25 and h > 25:\n",
    "            # 太大張就對半切\n",
    "            if w > 80:\n",
    "                ary.append(((x, y, int(w/3), h)))\n",
    "                ary.append(((int(x+w/3), y, it(w/3), h))) \n",
    "                ary.append(((int(x+2*w/3), y, int(w/3), h))) \n",
    "            elif w > 50:\n",
    "                ary.append(((x, y, int(w/2), h)))\n",
    "                ary.append(((int(x+w/2), y, int(w/2), h)))  \n",
    "            else:\n",
    "                ary.append(((x, y, w, h))) \n",
    "    return ary\n",
    "\n",
    "def find_contours_v2(dilation):\n",
    "    fig = plt.figure()\n",
    "    ary = [(15, 8, 35, 40), (45, 8, 45, 40), (90, 8, 40, 40), (125, 8, 45, 40), (167, 8, 35, 40)]\n",
    "    final_ans = \"\"\n",
    "    for id, (x, y, w, h) in enumerate(ary):\n",
    "        roi = dilation[y:y+h, x:x+w]\n",
    "        sub_img = cv2.resize(roi, (50,50))\n",
    "        sub_img_ary = find_contours(sub_img)\n",
    "        final_ans += find_ans(sub_img_ary, sub_img)\n",
    "    return final_ans\n",
    "\n",
    "# Follow the director from ary, cut and recognize the image\n",
    "def find_ans(ary, img):\n",
    "    fig = plt.figure()\n",
    "    ans = \"\"\n",
    "    for id, (x, y, w, h) in enumerate(ary):\n",
    "        roi = img[y:y+h, x:x+w]\n",
    "        thresh = roi.copy()\n",
    "        res = cv2.resize(thresh, (50,50))\n",
    "        a = fig.add_subplot(1, len(ary), id+1)\n",
    "        plt.imshow(res)        \n",
    "        res = cv2.cvtColor(res, cv2.COLOR_BGR2RGB)\n",
    "        ans += getNumber(res)\n",
    "    return ans"
   ]
  },
  {
   "cell_type": "code",
   "execution_count": null,
   "metadata": {},
   "outputs": [],
   "source": [
    "img_file = os.listdir('img')[0:1000][5]\n",
    "dilation = pre_processing(img_file, k=4, f=1)\n",
    "ary = find_contours(dilation)\n",
    "final_ans = find_ans(ary, dilation)\n",
    "if len(final_ans) != 5:\n",
    "    dilation = pre_processing(img_file, k=3, f=1)\n",
    "    ary = find_contours(dilation)\n",
    "    final_ans = find_ans(ary)\n",
    "    if len(final_ans) != 5:\n",
    "        final_ans = find_contours_v2(dilation)\n",
    "print(final_ans)"
   ]
  },
  {
   "cell_type": "code",
   "execution_count": 9,
   "metadata": {},
   "outputs": [
    {
     "data": {
      "text/plain": [
       "(60, 200)"
      ]
     },
     "execution_count": 9,
     "metadata": {},
     "output_type": "execute_result"
    },
    {
     "data": {
      "image/png": "[encoded data removed]",
      "text/plain": [
       "<Figure size 432x288 with 1 Axes>"
      ]
     },
     "metadata": {
      "needs_background": "light"
     },
     "output_type": "display_data"
    }
   ],
   "source": [
    "img_file = os.listdir('img')[0:1000][5]\n",
    "dilation = pre_processing(img_file, k=4, f=1)\n",
    "dilation.shape"
   ]
  },
  {
   "cell_type": "code",
   "execution_count": 6,
   "metadata": {},
   "outputs": [
    {
     "data": {
      "text/plain": [
       "['2ZTPD.png']"
      ]
     },
     "execution_count": 6,
     "metadata": {},
     "output_type": "execute_result"
    }
   ],
   "source": [
    "os.listdir('img')[30:31]"
   ]
  },
  {
   "cell_type": "code",
   "execution_count": 5,
   "metadata": {},
   "outputs": [
    {
     "ename": "NameError",
     "evalue": "name 'img' is not defined",
     "output_type": "error",
     "traceback": [
      "\u001b[0;31m---------------------------------------------------------------------------\u001b[0m",
      "\u001b[0;31mNameError\u001b[0m                                 Traceback (most recent call last)",
      "\u001b[0;32m<ipython-input-5-77a7949ba908>\u001b[0m in \u001b[0;36m<module>\u001b[0;34m\u001b[0m\n\u001b[0;32m----> 1\u001b[0;31m \u001b[0mimg\u001b[0m\u001b[0;34m\u001b[0m\u001b[0;34m\u001b[0m\u001b[0m\n\u001b[0m",
      "\u001b[0;31mNameError\u001b[0m: name 'img' is not defined"
     ]
    }
   ],
   "source": [
    "img"
   ]
  },
  {
   "cell_type": "code",
   "execution_count": null,
   "metadata": {},
   "outputs": [],
   "source": []
  }
 ],
 "metadata": {
  "kernelspec": {
   "display_name": "Python 3",
   "language": "python",
   "name": "python3"
  },
  "language_info": {
   "codemirror_mode": {
    "name": "ipython",
    "version": 3
   },
   "file_extension": ".py",
   "mimetype": "text/x-python",
   "name": "python",
   "nbconvert_exporter": "python",
   "pygments_lexer": "ipython3",
   "version": "3.7.3"
  }
 },
 "nbformat": 4,
 "nbformat_minor": 2
}
