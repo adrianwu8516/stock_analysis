{
 "cells": [
  {
   "cell_type": "code",
   "execution_count": 5,
   "metadata": {},
   "outputs": [],
   "source": [
    "# coding: utf-8\n",
    "import shutil\n",
    "import requests\n",
    "import re\n",
    "import csv\n",
    "import os\n",
    "import time"
   ]
  },
  {
   "cell_type": "code",
   "execution_count": 29,
   "metadata": {},
   "outputs": [],
   "source": [
    "import matplotlib.pyplot as plt\n",
    "import cv2\n",
    "import os\n",
    "import re\n",
    "import numpy as np\n",
    "\n",
    "# A supplement function for make black and white file\n",
    "def lightness(img, a=2, b=80):\n",
    "    rows,cols,channels=img.shape\n",
    "    dst=img.copy()\n",
    "    for i in range(rows):\n",
    "        for j in range(cols):\n",
    "            for c in range(3):\n",
    "                # 從灰色一刀劃開，大者恆大，小者恆小\n",
    "                color = img[i,j][c]*a+b if img[i,j][c] > 125 else img[i,j][c]/a-b\n",
    "                if color>255:           # 防止像素值越界（0~255）\n",
    "                    dst[i,j][c]=255\n",
    "                elif color<0:           # 防止像素值越界（0~255）\n",
    "                    dst[i,j][c]=0\n",
    "                else:\n",
    "                    dst[i,j][c]=color\n",
    "    return dst\n",
    "\n",
    "# Calculation Min Square\n",
    "def mse(imageA, imageB):\n",
    "    err = np.sum((imageA.astype(\"float\") - imageB.astype(\"float\"))**2)\n",
    "    err /= float(imageA.shape[0] * imageA.shape[1])\n",
    "    return err\n",
    "\n",
    "def getNumber(pic):\n",
    "    max_a = 0\n",
    "    max_png = None\n",
    "    for png in os.listdir('captcha/Alphabet'):\n",
    "        if not png.endswith('.png'):\n",
    "            continue\n",
    "        # Remove some characters that had never shown before\n",
    "        if png in ['0.png', 'O.png', '1.png', 'I.png', 'S.png', '5.png', 'W.png', 'M.png', 'B.png']:\n",
    "            continue\n",
    "        ref = cv2.imread('captcha/Alphabet/'+png)\n",
    "        if mse(ref, pic) > max_a:\n",
    "            max_a = mse(ref, pic)\n",
    "            max_png = png\n",
    "    # if its hard to recognize, then give up\n",
    "    return \"\" if max_a < 125000 else re.sub('.png', '', max_png)\n",
    "\n",
    "# Read file and handle\n",
    "def pre_processing(img_file, k=4, f=1):\n",
    "    image = img_file\n",
    "    kernel = np.ones((k,k), np.uint8)\n",
    "    erosion = cv2.erode(image, kernel, iterations=1)\n",
    "    light = lightness(erosion, a=2, b=80)\n",
    "    dilation = cv2.dilate(light, kernel, iterations=f)\n",
    "    dilation = cv2.cvtColor(dilation, cv2.COLOR_BGR2GRAY)\n",
    "    plt.imshow(image)\n",
    "    return dilation\n",
    "\n",
    "# Cutting images into 50x50 cubic\n",
    "def find_contours(img):\n",
    "    contours, hierarchy = cv2.findContours(img.copy(), cv2.RETR_EXTERNAL, cv2.CHAIN_APPROX_SIMPLE) \n",
    "    cnts = sorted([(c, cv2.boundingRect(c)[0]) for c in contours], key= lambda x: x[1])\n",
    "    ary = []\n",
    "    final_ans = \"\"\n",
    "    for (c, _) in cnts:\n",
    "        (x, y, w, h) = cv2.boundingRect(c)\n",
    "        # 太小張捨棄\n",
    "        if w > 25 and h > 25:\n",
    "            # 太大張就對半切\n",
    "            if w > 80:\n",
    "                ary.append(((x, y, int(w/3), h)))\n",
    "                ary.append(((int(x+w/3), y, int(w/3), h))) \n",
    "                ary.append(((int(x+2*w/3), y, int(w/3), h))) \n",
    "            elif w > 50:\n",
    "                ary.append(((x, y, int(w/2), h)))\n",
    "                ary.append(((int(x+w/2), y, int(w/2), h)))  \n",
    "            else:\n",
    "                ary.append(((x, y, w, h))) \n",
    "    return ary\n",
    "\n",
    "def find_contours_v2(img):\n",
    "    ary = [(15, 8, 35, 40), (45, 8, 45, 40), (90, 8, 40, 40), (125, 8, 45, 40), (167, 8, 35, 40)]\n",
    "    final_ans = \"\"\n",
    "    for id, (x, y, w, h) in enumerate(ary):\n",
    "        roi = img[y:y+h, x:x+w]\n",
    "        sub_img = cv2.resize(roi, (50,50))\n",
    "        sub_img_ary = find_contours(sub_img)\n",
    "        final_ans += find_ans(sub_img_ary, sub_img)\n",
    "    return final_ans\n",
    "\n",
    "# Follow the director from ary, cut and recognize the image\n",
    "def find_ans(ary, img):\n",
    "    #fig = plt.figure()\n",
    "    ans = \"\"\n",
    "    for id, (x, y, w, h) in enumerate(ary):\n",
    "        roi = img[y:y+h, x:x+w]\n",
    "        thresh = roi.copy()\n",
    "        res = cv2.resize(thresh, (50,50))\n",
    "        #a = fig.add_subplot(1, len(ary), id+1)\n",
    "        #plt.imshow(res)        \n",
    "        res = cv2.cvtColor(res, cv2.COLOR_BGR2RGB)\n",
    "        ans += getNumber(res)\n",
    "    return ans\n",
    "\n",
    "def captcha_mdfk(img_file):\n",
    "    img = pre_processing(img_file, k=4, f=1)\n",
    "    ary = find_contours(img)\n",
    "    final_ans = find_ans(ary, img)\n",
    "    #print(\"1st Try\")\n",
    "    #print(final_ans)\n",
    "    #print(len(final_ans))\n",
    "    if len(final_ans) != 5:\n",
    "        final_ans = find_contours_v2(img)\n",
    "        #print(\"2nd Try\")\n",
    "        #print(final_ans)\n",
    "        #print(len(final_ans))\n",
    "        if len(final_ans) != 5:\n",
    "            img = pre_processing(img_file, k=3, f=1)\n",
    "            ary = find_contours(img)\n",
    "            final_ans = find_ans(ary, img)\n",
    "            #print(\"3rd Try\")\n",
    "            #print(final_ans)\n",
    "            #print(len(final_ans))\n",
    "            if len(final_ans) != 5:\n",
    "                final_ans = find_contours_v2(img)\n",
    "                #print(\"4th Try\")\n",
    "                #print(final_ans)\n",
    "                #print(len(final_ans))\n",
    "    return final_ans"
   ]
  },
  {
   "cell_type": "code",
   "execution_count": 16,
   "metadata": {},
   "outputs": [],
   "source": [
    "def Det_Dict_OverCnt( in_dict, compare ):\n",
    "    for val in in_dict.values( ):\n",
    "        if val < compare:\n",
    "            return False\n",
    "    return True\n",
    "\n",
    "def Resort_List( path, lst ):\n",
    "    dirs = os.listdir( path )\n",
    "    for val in dirs:\n",
    "        compare = val.split( '_' )[ 0 ]\n",
    "        if compare in lst:\n",
    "            lst.remove( compare )\n",
    "    return lst\n",
    "\n",
    "OutputPath = \".\\\\\""
   ]
  },
  {
   "cell_type": "code",
   "execution_count": 7,
   "metadata": {},
   "outputs": [
    {
     "name": "stderr",
     "output_type": "stream",
     "text": [
      "//anaconda3/lib/python3.7/site-packages/requests/packages/urllib3/connectionpool.py:768: InsecureRequestWarning: Unverified HTTPS request is being made. Adding certificate verification is strongly advised. See: https://urllib3.readthedocs.org/en/latest/security.html\n",
      "  InsecureRequestWarning)\n"
     ]
    }
   ],
   "source": [
    "headers = {\n",
    "    'User-Agent':'Mozilla/5.0 (Windows NT 6.1; WOW64; rv:2.0.1) Gecko/2010010' \\\n",
    "    '1 Firefox/4.0.1',\n",
    "    'Accept':'text/html,application/xhtml+xml,application/xml;q=0.9,*/*;q=0.8',\n",
    "    'Accept-Language':'en-us,en;q=0.5',\n",
    "    'Accept-Charset':'ISO-8859-1,utf-8;q=0.7,*;q=0.7'}\n",
    "\n",
    "rs = requests.session()\n",
    "\n",
    "res = rs.get( 'http://bsr.twse.com.tw/bshtm/bsMenu.aspx', stream = True, verify = False, headers =headers )\n",
    "\n",
    "\n",
    "viewstate = re.search( 'VIEWSTATE\"\\s+value=.*=', res.text )\n",
    "viewstate = viewstate.group( )[18:]\n",
    "\n",
    "eventvalidation = re.search( 'EVENTVALIDATION\"\\s+value=.*\\w', res.text )\n",
    "eventvalidation = eventvalidation.group()[24:]"
   ]
  },
  {
   "cell_type": "code",
   "execution_count": 10,
   "metadata": {},
   "outputs": [
    {
     "name": "stderr",
     "output_type": "stream",
     "text": [
      "//anaconda3/lib/python3.7/site-packages/requests/packages/urllib3/connectionpool.py:768: InsecureRequestWarning: Unverified HTTPS request is being made. Adding certificate verification is strongly advised. See: https://urllib3.readthedocs.org/en/latest/security.html\n",
      "  InsecureRequestWarning)\n"
     ]
    }
   ],
   "source": [
    "str = re.search( 'CaptchaImage.*guid+\\S*\\w', res.text ).group( )\n",
    "res = rs.get( 'http://bsr.twse.com.tw/bshtm/' + str, stream = True, verify = False )"
   ]
  },
  {
   "cell_type": "code",
   "execution_count": 15,
   "metadata": {},
   "outputs": [
    {
     "data": {
      "text/plain": [
       "requests.packages.urllib3.response.HTTPResponse"
      ]
     },
     "execution_count": 15,
     "metadata": {},
     "output_type": "execute_result"
    }
   ],
   "source": [
    "f = open( 'check.png', 'wb' )\n",
    "shutil.copyfileobj( res.raw, f )\n",
    "f.close"
   ]
  },
  {
   "cell_type": "code",
   "execution_count": 49,
   "metadata": {},
   "outputs": [
    {
     "name": "stderr",
     "output_type": "stream",
     "text": [
      "//anaconda3/lib/python3.7/site-packages/requests/packages/urllib3/connectionpool.py:768: InsecureRequestWarning: Unverified HTTPS request is being made. Adding certificate verification is strongly advised. See: https://urllib3.readthedocs.org/en/latest/security.html\n",
      "  InsecureRequestWarning)\n",
      "//anaconda3/lib/python3.7/site-packages/requests/packages/urllib3/connectionpool.py:768: InsecureRequestWarning: Unverified HTTPS request is being made. Adding certificate verification is strongly advised. See: https://urllib3.readthedocs.org/en/latest/security.html\n",
      "  InsecureRequestWarning)\n"
     ]
    },
    {
     "name": "stdout",
     "output_type": "stream",
     "text": [
      "股號 2330 Response 200 1\n",
      "股號 2330 Response 200 內容\n"
     ]
    },
    {
     "name": "stderr",
     "output_type": "stream",
     "text": [
      "//anaconda3/lib/python3.7/site-packages/requests/packages/urllib3/connectionpool.py:768: InsecureRequestWarning: Unverified HTTPS request is being made. Adding certificate verification is strongly advised. See: https://urllib3.readthedocs.org/en/latest/security.html\n",
      "  InsecureRequestWarning)\n",
      "//anaconda3/lib/python3.7/site-packages/requests/packages/urllib3/connectionpool.py:768: InsecureRequestWarning: Unverified HTTPS request is being made. Adding certificate verification is strongly advised. See: https://urllib3.readthedocs.org/en/latest/security.html\n",
      "  InsecureRequestWarning)\n"
     ]
    },
    {
     "ename": "AttributeError",
     "evalue": "'NoneType' object has no attribute 'group'",
     "output_type": "error",
     "traceback": [
      "\u001b[0;31m---------------------------------------------------------------------------\u001b[0m",
      "\u001b[0;31mAttributeError\u001b[0m                            Traceback (most recent call last)",
      "\u001b[0;32m<ipython-input-49-d8ac5fab2291>\u001b[0m in \u001b[0;36m<module>\u001b[0;34m\u001b[0m\n\u001b[1;32m     54\u001b[0m                     \u001b[0mwriter\u001b[0m\u001b[0;34m.\u001b[0m\u001b[0mwriterow\u001b[0m\u001b[0;34m(\u001b[0m \u001b[0;34m[\u001b[0m \u001b[0mkey\u001b[0m\u001b[0;34m,\u001b[0m \u001b[0mval\u001b[0m \u001b[0;34m]\u001b[0m \u001b[0;34m)\u001b[0m\u001b[0;34m\u001b[0m\u001b[0;34m\u001b[0m\u001b[0m\n\u001b[1;32m     55\u001b[0m         \u001b[0;32mcontinue\u001b[0m\u001b[0;34m\u001b[0m\u001b[0;34m\u001b[0m\u001b[0m\n\u001b[0;32m---> 56\u001b[0;31m     \u001b[0mdate\u001b[0m \u001b[0;34m=\u001b[0m \u001b[0mdate\u001b[0m\u001b[0;34m.\u001b[0m\u001b[0mgroup\u001b[0m\u001b[0;34m(\u001b[0m\u001b[0;34m)\u001b[0m\u001b[0;34m[\u001b[0m\u001b[0;34m-\u001b[0m\u001b[0;36m10\u001b[0m\u001b[0;34m:\u001b[0m\u001b[0;34m]\u001b[0m\u001b[0;34m.\u001b[0m\u001b[0mreplace\u001b[0m\u001b[0;34m(\u001b[0m\u001b[0;34m'/'\u001b[0m\u001b[0;34m,\u001b[0m \u001b[0;34m''\u001b[0m\u001b[0;34m)\u001b[0m\u001b[0;34m\u001b[0m\u001b[0;34m\u001b[0m\u001b[0m\n\u001b[0m\u001b[1;32m     57\u001b[0m     \u001b[0mname\u001b[0m \u001b[0;34m=\u001b[0m \u001b[0mre\u001b[0m\u001b[0;34m.\u001b[0m\u001b[0msearch\u001b[0m\u001b[0;34m(\u001b[0m \u001b[0;34m'&nbsp;.*<'\u001b[0m\u001b[0;34m,\u001b[0m \u001b[0mres\u001b[0m\u001b[0;34m.\u001b[0m\u001b[0mtext\u001b[0m \u001b[0;34m)\u001b[0m\u001b[0;34m\u001b[0m\u001b[0;34m\u001b[0m\u001b[0m\n\u001b[1;32m     58\u001b[0m     \u001b[0mname\u001b[0m \u001b[0;34m=\u001b[0m \u001b[0mname\u001b[0m\u001b[0;34m.\u001b[0m\u001b[0mgroup\u001b[0m\u001b[0;34m(\u001b[0m\u001b[0;34m)\u001b[0m\u001b[0;34m[\u001b[0m \u001b[0;36m6\u001b[0m\u001b[0;34m:\u001b[0m\u001b[0;34m-\u001b[0m\u001b[0;36m1\u001b[0m \u001b[0;34m]\u001b[0m\u001b[0;34m\u001b[0m\u001b[0;34m\u001b[0m\u001b[0m\n",
      "\u001b[0;31mAttributeError\u001b[0m: 'NoneType' object has no attribute 'group'"
     ]
    },
    {
     "data": {
      "image/png": "[encoded data removed]",
      "text/plain": [
       "<Figure size 432x288 with 1 Axes>"
      ]
     },
     "metadata": {
      "needs_background": "light"
     },
     "output_type": "display_data"
    }
   ],
   "source": [
    "stock_list = [2330, 8044]\n",
    "miss_cnt = 0\n",
    "date = None\n",
    "num = stock_list.pop( 0 )\n",
    "while date is None and miss_cnt < 2:\n",
    "    miss_cnt = miss_cnt + 1\n",
    "    time.sleep( 1 )\n",
    "    rs = requests.session( )\n",
    "    res = rs.get( 'http://bsr.twse.com.tw/bshtm/bsMenu.aspx', stream = True, verify = False, headers = headers, timeout=None )\n",
    "    print( '股號', num, 'Response', res.status_code, len( stock_list ) )\n",
    "    try:\n",
    "        viewstate = re.search( 'VIEWSTATE\"\\s+value=.*=', res.text )\n",
    "        viewstate = viewstate.group()[18:]\n",
    "        eventvalidation = re.search( 'EVENTVALIDATION\"\\s+value=.*\\w', res.text )\n",
    "        eventvalidation = eventvalidation.group( )[ 24: ]\n",
    "    except:\n",
    "        continue\n",
    "    key = re.search('CaptchaImage.*guid+\\S*\\w', res.text )\n",
    "    res = rs.get( 'http://bsr.twse.com.tw/bshtm/' + key.group( ), stream = True, verify = False )\n",
    "    f = open('check.png', 'wb')\n",
    "    shutil.copyfileobj( res.raw, f )\n",
    "    f.close\n",
    "    img = cv2.imread(\"check.png\")\n",
    "    ans = captcha_mdfk(img)\n",
    "    payload = {\n",
    "        '__EVENTTARGET':'',\n",
    "        '__EVENTARGUMENT':'',\n",
    "        '__LASTFOCUS':'',\n",
    "        '__VIEWSTATE' : viewstate,                      #encode_viewstate[:-1],\n",
    "        '__EVENTVALIDATION' : eventvalidation,          #encode_eventvalidation[:-1],\n",
    "        'RadioButton_Normal' : 'RadioButton_Normal',\n",
    "        'TextBox_Stkno' : '{}'.format( num ),\n",
    "        'CaptchaControl1 ' : ans,\n",
    "        'btnOK' : '%E6%9F%A5%E8%A9%A2',\n",
    "    }\n",
    "    rs.post( \"http://bsr.twse.com.tw/bshtm/bsMenu.aspx\", data=payload, headers=headers, verify = False, stream = True )\n",
    "    res = rs.get( 'http://bsr.twse.com.tw/bshtm/bsContent.aspx?v=t',verify = False ,stream = True, )\n",
    "    date = re.search( 'receive_date.*\\s.*\\d', res.text )\n",
    "    print( '股號', \"2330\", 'Response', res.status_code, '內容' )\n",
    "    if miss_cnt == 2:\n",
    "        if num in timeout_dict:\n",
    "            timeout_dict[ num ] += 1\n",
    "        else:\n",
    "            timeout_dict[ num ] = 1\n",
    "        stock_list.append( num )\n",
    "        print( '股號', stock_list[ -1 ], '查詢逾時移入佇列' )\n",
    "        if Det_Dict_OverCnt( timeout_dict, 2 ):\n",
    "            print( '全部股號查詢超過4次, 存入Log' )\n",
    "            del stock_list[ : ]\n",
    "            with open( 'log.csv', 'w' ) as csv_file:\n",
    "                writer = csv.writer( csv_file )\n",
    "                for key, value in timeout_dict.items( ):\n",
    "                    val = \"{0}\".format( value )\n",
    "                    writer.writerow( [ key, val ] )\n",
    "        continue\n",
    "    date = date.group()[-10:].replace('/', '')\n",
    "    name = re.search( '&nbsp;.*<', res.text )\n",
    "    name = name.group()[ 6:-1 ]\n",
    "    tmp_csv = rs.get( 'http://bsr.twse.com.tw/bshtm/bsContent.aspx', verify = False ,stream = True )\n",
    "\n",
    "    if tmp_csv.status_code > 300 or tmp_csv.status_code < 200:\n",
    "        tmp_csv = rs.get( 'http://bsr.twse.com.tw/bshtm/bsContent.aspx', verify = False ,stream = True )\n",
    "    rs.close( )\n",
    "    data = tmp_csv.text.splitlines( )"
   ]
  },
  {
   "cell_type": "code",
   "execution_count": 40,
   "metadata": {},
   "outputs": [
    {
     "name": "stderr",
     "output_type": "stream",
     "text": [
      "//anaconda3/lib/python3.7/site-packages/requests/packages/urllib3/connectionpool.py:768: InsecureRequestWarning: Unverified HTTPS request is being made. Adding certificate verification is strongly advised. See: https://urllib3.readthedocs.org/en/latest/security.html\n",
      "  InsecureRequestWarning)\n"
     ]
    }
   ],
   "source": [
    "tmp_csv = rs.get( 'http://bsr.twse.com.tw/bshtm/bsContent.aspx', verify = False ,stream = True )\n",
    "\n",
    "if tmp_csv.status_code > 300 or tmp_csv.status_code < 200:\n",
    "    tmp_csv = rs.get( 'http://bsr.twse.com.tw/bshtm/bsContent.aspx', verify = False ,stream = True )"
   ]
  },
  {
   "cell_type": "code",
   "execution_count": 50,
   "metadata": {},
   "outputs": [
    {
     "data": {
      "text/plain": [
       "<Response [200]>"
      ]
     },
     "execution_count": 50,
     "metadata": {},
     "output_type": "execute_result"
    }
   ],
   "source": [
    "res"
   ]
  },
  {
   "cell_type": "code",
   "execution_count": 42,
   "metadata": {},
   "outputs": [],
   "source": [
    "data = tmp_csv.text.splitlines( )"
   ]
  },
  {
   "cell_type": "code",
   "execution_count": 48,
   "metadata": {},
   "outputs": [],
   "source": [
    "rs.close( )"
   ]
  },
  {
   "cell_type": "code",
   "execution_count": null,
   "metadata": {},
   "outputs": [],
   "source": []
  }
 ],
 "metadata": {
  "kernelspec": {
   "display_name": "Python 3",
   "language": "python",
   "name": "python3"
  },
  "language_info": {
   "codemirror_mode": {
    "name": "ipython",
    "version": 3
   },
   "file_extension": ".py",
   "mimetype": "text/x-python",
   "name": "python",
   "nbconvert_exporter": "python",
   "pygments_lexer": "ipython3",
   "version": "3.7.3"
  }
 },
 "nbformat": 4,
 "nbformat_minor": 2
}
